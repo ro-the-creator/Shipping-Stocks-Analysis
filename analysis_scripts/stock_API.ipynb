{
 "cells": [
  {
   "cell_type": "code",
   "execution_count": 2,
   "id": "836e25a1",
   "metadata": {},
   "outputs": [
    {
     "name": "stdout",
     "output_type": "stream",
     "text": [
      "Requirement already satisfied: yfinance in /opt/miniconda3/envs/data-analysis-env/lib/python3.9/site-packages (0.2.62)\n",
      "Requirement already satisfied: pandas>=1.3.0 in /opt/miniconda3/envs/data-analysis-env/lib/python3.9/site-packages (from yfinance) (2.2.3)\n",
      "Requirement already satisfied: numpy>=1.16.5 in /opt/miniconda3/envs/data-analysis-env/lib/python3.9/site-packages (from yfinance) (2.0.2)\n",
      "Requirement already satisfied: requests>=2.31 in /opt/miniconda3/envs/data-analysis-env/lib/python3.9/site-packages (from yfinance) (2.32.3)\n",
      "Requirement already satisfied: multitasking>=0.0.7 in /opt/miniconda3/envs/data-analysis-env/lib/python3.9/site-packages (from yfinance) (0.0.11)\n",
      "Requirement already satisfied: platformdirs>=2.0.0 in /opt/miniconda3/envs/data-analysis-env/lib/python3.9/site-packages (from yfinance) (4.3.7)\n",
      "Requirement already satisfied: pytz>=2022.5 in /opt/miniconda3/envs/data-analysis-env/lib/python3.9/site-packages (from yfinance) (2025.2)\n",
      "Requirement already satisfied: frozendict>=2.3.4 in /opt/miniconda3/envs/data-analysis-env/lib/python3.9/site-packages (from yfinance) (2.4.6)\n",
      "Requirement already satisfied: peewee>=3.16.2 in /opt/miniconda3/envs/data-analysis-env/lib/python3.9/site-packages (from yfinance) (3.18.1)\n",
      "Requirement already satisfied: beautifulsoup4>=4.11.1 in /opt/miniconda3/envs/data-analysis-env/lib/python3.9/site-packages (from yfinance) (4.13.4)\n",
      "Requirement already satisfied: curl_cffi>=0.7 in /opt/miniconda3/envs/data-analysis-env/lib/python3.9/site-packages (from yfinance) (0.11.3)\n",
      "Requirement already satisfied: protobuf>=3.19.0 in /opt/miniconda3/envs/data-analysis-env/lib/python3.9/site-packages (from yfinance) (6.31.1)\n",
      "Requirement already satisfied: websockets>=13.0 in /opt/miniconda3/envs/data-analysis-env/lib/python3.9/site-packages (from yfinance) (15.0.1)\n",
      "Requirement already satisfied: soupsieve>1.2 in /opt/miniconda3/envs/data-analysis-env/lib/python3.9/site-packages (from beautifulsoup4>=4.11.1->yfinance) (2.5)\n",
      "Requirement already satisfied: typing-extensions>=4.0.0 in /opt/miniconda3/envs/data-analysis-env/lib/python3.9/site-packages (from beautifulsoup4>=4.11.1->yfinance) (4.13.2)\n",
      "Requirement already satisfied: cffi>=1.12.0 in /opt/miniconda3/envs/data-analysis-env/lib/python3.9/site-packages (from curl_cffi>=0.7->yfinance) (1.17.1)\n",
      "Requirement already satisfied: certifi>=2024.2.2 in /opt/miniconda3/envs/data-analysis-env/lib/python3.9/site-packages (from curl_cffi>=0.7->yfinance) (2025.1.31)\n",
      "Requirement already satisfied: python-dateutil>=2.8.2 in /opt/miniconda3/envs/data-analysis-env/lib/python3.9/site-packages (from pandas>=1.3.0->yfinance) (2.9.0.post0)\n",
      "Requirement already satisfied: tzdata>=2022.7 in /opt/miniconda3/envs/data-analysis-env/lib/python3.9/site-packages (from pandas>=1.3.0->yfinance) (2025.2)\n",
      "Requirement already satisfied: charset_normalizer<4,>=2 in /opt/miniconda3/envs/data-analysis-env/lib/python3.9/site-packages (from requests>=2.31->yfinance) (3.4.1)\n",
      "Requirement already satisfied: idna<4,>=2.5 in /opt/miniconda3/envs/data-analysis-env/lib/python3.9/site-packages (from requests>=2.31->yfinance) (3.10)\n",
      "Requirement already satisfied: urllib3<3,>=1.21.1 in /opt/miniconda3/envs/data-analysis-env/lib/python3.9/site-packages (from requests>=2.31->yfinance) (2.4.0)\n",
      "Requirement already satisfied: pycparser in /opt/miniconda3/envs/data-analysis-env/lib/python3.9/site-packages (from cffi>=1.12.0->curl_cffi>=0.7->yfinance) (2.22)\n",
      "Requirement already satisfied: six>=1.5 in /opt/miniconda3/envs/data-analysis-env/lib/python3.9/site-packages (from python-dateutil>=2.8.2->pandas>=1.3.0->yfinance) (1.17.0)\n",
      "Note: you may need to restart the kernel to use updated packages.\n"
     ]
    }
   ],
   "source": [
    "pip install yfinance"
   ]
  },
  {
   "cell_type": "code",
   "execution_count": 3,
   "id": "00e2d1af",
   "metadata": {},
   "outputs": [],
   "source": [
    "import yfinance as yf\n",
    "import pandas as pd\n",
    "import numpy as np"
   ]
  },
  {
   "cell_type": "code",
   "execution_count": 8,
   "id": "1459979d",
   "metadata": {},
   "outputs": [
    {
     "name": "stdout",
     "output_type": "stream",
     "text": [
      "Stock: Spotify Technology S.A.\n",
      "Sector: Communication Services\n",
      "Industry: Internet Content & Information\n",
      "Percent Change Over 2 Years 351.10%\n",
      "Percent Change Over 6 Months 54.62%\n",
      "P/E ratio: 109.856064\n",
      "-----------------------------------\n",
      "$ spot Stock Evaluation Score: 25\n",
      "\n",
      "!WARNING!: This is not financial advice. Always conduct research before you purchase stocks.\n"
     ]
    },
    {
     "name": "stderr",
     "output_type": "stream",
     "text": [
      "/var/folders/gs/yv3dj4zx2tgdd5tw701ypspm0000gp/T/ipykernel_93520/2835914832.py:14: FutureWarning: Series.__getitem__ treating keys as positions is deprecated. In a future version, integer keys will always be treated as labels (consistent with DataFrame behavior). To access a value by position, use `ser.iloc[pos]`\n",
      "  x2y = df2y['Close'][-1] - df2y['Close'][0]\n",
      "/var/folders/gs/yv3dj4zx2tgdd5tw701ypspm0000gp/T/ipykernel_93520/2835914832.py:15: FutureWarning: Series.__getitem__ treating keys as positions is deprecated. In a future version, integer keys will always be treated as labels (consistent with DataFrame behavior). To access a value by position, use `ser.iloc[pos]`\n",
      "  perc_change_2y = x2y/ df2y['Close'][0] * 100\n",
      "/var/folders/gs/yv3dj4zx2tgdd5tw701ypspm0000gp/T/ipykernel_93520/2835914832.py:44: FutureWarning: Series.__getitem__ treating keys as positions is deprecated. In a future version, integer keys will always be treated as labels (consistent with DataFrame behavior). To access a value by position, use `ser.iloc[pos]`\n",
      "  x6mo = df6mo['Close'][-1] - df6mo['Close'][0]\n",
      "/var/folders/gs/yv3dj4zx2tgdd5tw701ypspm0000gp/T/ipykernel_93520/2835914832.py:45: FutureWarning: Series.__getitem__ treating keys as positions is deprecated. In a future version, integer keys will always be treated as labels (consistent with DataFrame behavior). To access a value by position, use `ser.iloc[pos]`\n",
      "  perc_change_6mo = x6mo/ df6mo['Close'][0] * 100\n"
     ]
    }
   ],
   "source": [
    "# imports\n",
    "import yfinance as yf\n",
    "import pandas as pd\n",
    "import numpy as np\n",
    "\n",
    "# User input & score variable\n",
    "user_ticker = input('pick a ticker)')\n",
    "stock_for_analysis_choice = yf.Ticker(user_ticker)\n",
    "score = 0\n",
    "\n",
    "# % change over 2yr\n",
    "stock_hist_2y = stock_for_analysis_choice.history(period='2y')\n",
    "df2y = pd.DataFrame(stock_hist_2y)\n",
    "x2y = df2y['Close'][-1] - df2y['Close'][0]\n",
    "perc_change_2y = x2y/ df2y['Close'][0] * 100\n",
    "\n",
    "if perc_change_2y <= 10:\n",
    "    score = score\n",
    "if 11 <= perc_change_2y <= 20:\n",
    "     score = score + 1\n",
    "if 21 <= perc_change_2y <= 30:\n",
    "     score = score + 2\n",
    "if 31 <= perc_change_2y <= 40:\n",
    "     score = score + 3\n",
    "if 41 <= perc_change_2y <= 50:\n",
    "     score = score + 4\n",
    "if 51 <= perc_change_2y <= 60:\n",
    "     score = score + 5\n",
    "if 61 <= perc_change_2y <= 70:\n",
    "     score = score + 6\n",
    "if 71 <= perc_change_2y <= 80:\n",
    "     score = score + 7\n",
    "if 81 <= perc_change_2y <= 90:\n",
    "     score = score + 8\n",
    "if 91 <= perc_change_2y <= 100:\n",
    "     score = score + 9\n",
    "if 100 <= perc_change_2y:\n",
    "     score = score + 10\n",
    "\n",
    "\n",
    "# % change over last 6 months\n",
    "stock_hist_6mo = stock_for_analysis_choice.history(period='6mo')\n",
    "df6mo = pd.DataFrame(stock_hist_6mo)\n",
    "x6mo = df6mo['Close'][-1] - df6mo['Close'][0]\n",
    "perc_change_6mo = x6mo/ df6mo['Close'][0] * 100\n",
    "\n",
    "if perc_change_6mo <= 10:\n",
    "    score = score\n",
    "if 11 <= perc_change_6mo <= 20:\n",
    "     score = score + 1\n",
    "if 21 <= perc_change_6mo <= 30:\n",
    "     score = score + 2\n",
    "if 31 <= perc_change_6mo <= 40:\n",
    "     score = score + 3\n",
    "if 41 <= perc_change_6mo <= 50:\n",
    "     score = score + 4\n",
    "if 51 <= perc_change_6mo <= 60:\n",
    "     score = score + 5\n",
    "if 61 <= perc_change_6mo <= 70:\n",
    "     score = score + 6\n",
    "if 71 <= perc_change_6mo <= 80:\n",
    "     score = score + 7\n",
    "if 81 <= perc_change_6mo <= 90:\n",
    "     score = score + 8\n",
    "if 91 <= perc_change_6mo <= 100:\n",
    "     score = score + 9\n",
    "if 100 <= perc_change_6mo:\n",
    "     score = score + 10\n",
    "\n",
    "# P/E ratio\n",
    "dict =  stock_for_analysis_choice.info\n",
    "stock_trailingPE = dict.get('trailingPE')\n",
    "try:\n",
    "     stock_trailingPE = float(stock_trailingPE)\n",
    "     if stock_trailingPE <= 51:\n",
    "          score = score\n",
    "     if 46 <= stock_trailingPE <= 50:\n",
    "          score = score + 1\n",
    "     if 41 <= stock_trailingPE <= 45:\n",
    "          score = score + 2\n",
    "     if 36 <= stock_trailingPE <= 40:\n",
    "          score = score + 3\n",
    "     if 31 <= stock_trailingPE <= 35:\n",
    "          score = score + 4\n",
    "     if 26 <= stock_trailingPE <= 30:\n",
    "          score = score + 5\n",
    "     if 21 <= stock_trailingPE <= 25:\n",
    "          score = score + 6\n",
    "     if 16 <= stock_trailingPE <= 20:\n",
    "          score = score + 7\n",
    "     if 11 <= stock_trailingPE <= 15:\n",
    "          score = score + 8\n",
    "     if 6 <= stock_trailingPE <= 10:\n",
    "          score = score + 9\n",
    "     if 5 <= stock_trailingPE:\n",
    "          score = score + 10\n",
    "\n",
    "except (TypeError, ValueError):\n",
    "     stock_trailingPE = \"Not Available\"\n",
    "     \n",
    "# Sector & Industry\n",
    "sector = stock_for_analysis_choice.info.get('sector', 'N/A')\n",
    "industry = stock_for_analysis_choice.info.get('industry', 'N/A')\n",
    "\n",
    "# prints\n",
    "print('Stock:', stock_for_analysis_choice.info['shortName'])\n",
    "print('Sector:', sector)\n",
    "print('Industry:', industry)\n",
    "print('Percent Change Over 2 Years', f\"{perc_change_2y:.2f}%\")\n",
    "print('Percent Change Over 6 Months', f\"{perc_change_6mo:.2f}%\")\n",
    "print('P/E ratio:', stock_trailingPE)\n",
    "print('-----------------------------------')\n",
    "print('$',user_ticker, 'Stock Evaluation Score:', score)\n",
    "print()\n",
    "print('!WARNING!: This is not financial advice. Always conduct research before you purchase stocks.')"
   ]
  },
  {
   "cell_type": "code",
   "execution_count": 5,
   "id": "3b1bc17f",
   "metadata": {},
   "outputs": [
    {
     "name": "stdout",
     "output_type": "stream",
     "text": [
      "Percent Change Over 2 Years 12.73%\n"
     ]
    },
    {
     "name": "stderr",
     "output_type": "stream",
     "text": [
      "/var/folders/gs/yv3dj4zx2tgdd5tw701ypspm0000gp/T/ipykernel_93520/2816527736.py:6: FutureWarning: Series.__getitem__ treating keys as positions is deprecated. In a future version, integer keys will always be treated as labels (consistent with DataFrame behavior). To access a value by position, use `ser.iloc[pos]`\n",
      "  x = df['Close'][-1] - df['Close'][0]\n",
      "/var/folders/gs/yv3dj4zx2tgdd5tw701ypspm0000gp/T/ipykernel_93520/2816527736.py:7: FutureWarning: Series.__getitem__ treating keys as positions is deprecated. In a future version, integer keys will always be treated as labels (consistent with DataFrame behavior). To access a value by position, use `ser.iloc[pos]`\n",
      "  perc_change = x/ df['Close'][0] * 100\n"
     ]
    }
   ],
   "source": [
    "# practice\n",
    "\n",
    "AAPL_stock = yf.Ticker('AAPL')\n",
    "AAPL_2y = AAPL_stock.history(period='2y')\n",
    "df = pd.DataFrame(AAPL_2y)\n",
    "x = df['Close'][-1] - df['Close'][0]\n",
    "perc_change = x/ df['Close'][0] * 100\n",
    "print('Percent Change Over 2 Years', f\"{perc_change:.2f}%\")"
   ]
  },
  {
   "cell_type": "code",
   "execution_count": 6,
   "id": "30088eb1",
   "metadata": {},
   "outputs": [
    {
     "name": "stdout",
     "output_type": "stream",
     "text": [
      "Apple Inc.\n"
     ]
    }
   ],
   "source": [
    "# practice\n",
    "AAPL_stock = yf.Ticker('AAPL')\n",
    "AAPL_2y = AAPL_stock.history(period='2y')\n",
    "print(AAPL_stock.info['shortName'])"
   ]
  },
  {
   "cell_type": "code",
   "execution_count": 7,
   "id": "184c0dcc",
   "metadata": {},
   "outputs": [
    {
     "ename": "KeyError",
     "evalue": "'[<bound method NDFrame.keys of                           index                          0\\n0                      address1  33 Boulevard Prince Henri\\n1                          city            Luxembourg City\\n2                           zip                       1724\\n3                       country                 Luxembourg\\n4                       website    https://www.spotify.com\\n..                          ...                        ...\\n163  earningsCallTimestampStart                 1753790400\\n164    earningsCallTimestampEnd                 1753790400\\n165      isEarningsDateEstimate                      False\\n166                 displayName         Spotify Technology\\n167            trailingPegRatio                     2.0365\\n\\n[168 rows x 2 columns]>] not found in axis'",
     "output_type": "error",
     "traceback": [
      "\u001b[0;31m---------------------------------------------------------------------------\u001b[0m",
      "\u001b[0;31mKeyError\u001b[0m                                  Traceback (most recent call last)",
      "Cell \u001b[0;32mIn[7], line 8\u001b[0m\n\u001b[1;32m      5\u001b[0m df \u001b[38;5;241m=\u001b[39m df\u001b[38;5;241m.\u001b[39mreset_index()\n\u001b[1;32m      6\u001b[0m \u001b[38;5;66;03m# df.to_csv('/Users/Marcy_Student/Desktop/Passion-Projects/stock-project-extra-files/stock analysis to_csvs/SPOT-info.csv')\u001b[39;00m\n\u001b[0;32m----> 8\u001b[0m df_drop \u001b[38;5;241m=\u001b[39m \u001b[43mdf\u001b[49m\u001b[38;5;241;43m.\u001b[39;49m\u001b[43mdrop\u001b[49m\u001b[43m(\u001b[49m\u001b[43mdf\u001b[49m\u001b[38;5;241;43m.\u001b[39;49m\u001b[43mkeys\u001b[49m\u001b[43m)\u001b[49m\n",
      "File \u001b[0;32m/opt/miniconda3/envs/data-analysis-env/lib/python3.9/site-packages/pandas/core/frame.py:5581\u001b[0m, in \u001b[0;36mDataFrame.drop\u001b[0;34m(self, labels, axis, index, columns, level, inplace, errors)\u001b[0m\n\u001b[1;32m   5433\u001b[0m \u001b[38;5;28;01mdef\u001b[39;00m\u001b[38;5;250m \u001b[39m\u001b[38;5;21mdrop\u001b[39m(\n\u001b[1;32m   5434\u001b[0m     \u001b[38;5;28mself\u001b[39m,\n\u001b[1;32m   5435\u001b[0m     labels: IndexLabel \u001b[38;5;241m|\u001b[39m \u001b[38;5;28;01mNone\u001b[39;00m \u001b[38;5;241m=\u001b[39m \u001b[38;5;28;01mNone\u001b[39;00m,\n\u001b[0;32m   (...)\u001b[0m\n\u001b[1;32m   5442\u001b[0m     errors: IgnoreRaise \u001b[38;5;241m=\u001b[39m \u001b[38;5;124m\"\u001b[39m\u001b[38;5;124mraise\u001b[39m\u001b[38;5;124m\"\u001b[39m,\n\u001b[1;32m   5443\u001b[0m ) \u001b[38;5;241m-\u001b[39m\u001b[38;5;241m>\u001b[39m DataFrame \u001b[38;5;241m|\u001b[39m \u001b[38;5;28;01mNone\u001b[39;00m:\n\u001b[1;32m   5444\u001b[0m \u001b[38;5;250m    \u001b[39m\u001b[38;5;124;03m\"\"\"\u001b[39;00m\n\u001b[1;32m   5445\u001b[0m \u001b[38;5;124;03m    Drop specified labels from rows or columns.\u001b[39;00m\n\u001b[1;32m   5446\u001b[0m \n\u001b[0;32m   (...)\u001b[0m\n\u001b[1;32m   5579\u001b[0m \u001b[38;5;124;03m            weight  1.0     0.8\u001b[39;00m\n\u001b[1;32m   5580\u001b[0m \u001b[38;5;124;03m    \"\"\"\u001b[39;00m\n\u001b[0;32m-> 5581\u001b[0m     \u001b[38;5;28;01mreturn\u001b[39;00m \u001b[38;5;28;43msuper\u001b[39;49m\u001b[43m(\u001b[49m\u001b[43m)\u001b[49m\u001b[38;5;241;43m.\u001b[39;49m\u001b[43mdrop\u001b[49m\u001b[43m(\u001b[49m\n\u001b[1;32m   5582\u001b[0m \u001b[43m        \u001b[49m\u001b[43mlabels\u001b[49m\u001b[38;5;241;43m=\u001b[39;49m\u001b[43mlabels\u001b[49m\u001b[43m,\u001b[49m\n\u001b[1;32m   5583\u001b[0m \u001b[43m        \u001b[49m\u001b[43maxis\u001b[49m\u001b[38;5;241;43m=\u001b[39;49m\u001b[43maxis\u001b[49m\u001b[43m,\u001b[49m\n\u001b[1;32m   5584\u001b[0m \u001b[43m        \u001b[49m\u001b[43mindex\u001b[49m\u001b[38;5;241;43m=\u001b[39;49m\u001b[43mindex\u001b[49m\u001b[43m,\u001b[49m\n\u001b[1;32m   5585\u001b[0m \u001b[43m        \u001b[49m\u001b[43mcolumns\u001b[49m\u001b[38;5;241;43m=\u001b[39;49m\u001b[43mcolumns\u001b[49m\u001b[43m,\u001b[49m\n\u001b[1;32m   5586\u001b[0m \u001b[43m        \u001b[49m\u001b[43mlevel\u001b[49m\u001b[38;5;241;43m=\u001b[39;49m\u001b[43mlevel\u001b[49m\u001b[43m,\u001b[49m\n\u001b[1;32m   5587\u001b[0m \u001b[43m        \u001b[49m\u001b[43minplace\u001b[49m\u001b[38;5;241;43m=\u001b[39;49m\u001b[43minplace\u001b[49m\u001b[43m,\u001b[49m\n\u001b[1;32m   5588\u001b[0m \u001b[43m        \u001b[49m\u001b[43merrors\u001b[49m\u001b[38;5;241;43m=\u001b[39;49m\u001b[43merrors\u001b[49m\u001b[43m,\u001b[49m\n\u001b[1;32m   5589\u001b[0m \u001b[43m    \u001b[49m\u001b[43m)\u001b[49m\n",
      "File \u001b[0;32m/opt/miniconda3/envs/data-analysis-env/lib/python3.9/site-packages/pandas/core/generic.py:4788\u001b[0m, in \u001b[0;36mNDFrame.drop\u001b[0;34m(self, labels, axis, index, columns, level, inplace, errors)\u001b[0m\n\u001b[1;32m   4786\u001b[0m \u001b[38;5;28;01mfor\u001b[39;00m axis, labels \u001b[38;5;129;01min\u001b[39;00m axes\u001b[38;5;241m.\u001b[39mitems():\n\u001b[1;32m   4787\u001b[0m     \u001b[38;5;28;01mif\u001b[39;00m labels \u001b[38;5;129;01mis\u001b[39;00m \u001b[38;5;129;01mnot\u001b[39;00m \u001b[38;5;28;01mNone\u001b[39;00m:\n\u001b[0;32m-> 4788\u001b[0m         obj \u001b[38;5;241m=\u001b[39m \u001b[43mobj\u001b[49m\u001b[38;5;241;43m.\u001b[39;49m\u001b[43m_drop_axis\u001b[49m\u001b[43m(\u001b[49m\u001b[43mlabels\u001b[49m\u001b[43m,\u001b[49m\u001b[43m \u001b[49m\u001b[43maxis\u001b[49m\u001b[43m,\u001b[49m\u001b[43m \u001b[49m\u001b[43mlevel\u001b[49m\u001b[38;5;241;43m=\u001b[39;49m\u001b[43mlevel\u001b[49m\u001b[43m,\u001b[49m\u001b[43m \u001b[49m\u001b[43merrors\u001b[49m\u001b[38;5;241;43m=\u001b[39;49m\u001b[43merrors\u001b[49m\u001b[43m)\u001b[49m\n\u001b[1;32m   4790\u001b[0m \u001b[38;5;28;01mif\u001b[39;00m inplace:\n\u001b[1;32m   4791\u001b[0m     \u001b[38;5;28mself\u001b[39m\u001b[38;5;241m.\u001b[39m_update_inplace(obj)\n",
      "File \u001b[0;32m/opt/miniconda3/envs/data-analysis-env/lib/python3.9/site-packages/pandas/core/generic.py:4830\u001b[0m, in \u001b[0;36mNDFrame._drop_axis\u001b[0;34m(self, labels, axis, level, errors, only_slice)\u001b[0m\n\u001b[1;32m   4828\u001b[0m         new_axis \u001b[38;5;241m=\u001b[39m axis\u001b[38;5;241m.\u001b[39mdrop(labels, level\u001b[38;5;241m=\u001b[39mlevel, errors\u001b[38;5;241m=\u001b[39merrors)\n\u001b[1;32m   4829\u001b[0m     \u001b[38;5;28;01melse\u001b[39;00m:\n\u001b[0;32m-> 4830\u001b[0m         new_axis \u001b[38;5;241m=\u001b[39m \u001b[43maxis\u001b[49m\u001b[38;5;241;43m.\u001b[39;49m\u001b[43mdrop\u001b[49m\u001b[43m(\u001b[49m\u001b[43mlabels\u001b[49m\u001b[43m,\u001b[49m\u001b[43m \u001b[49m\u001b[43merrors\u001b[49m\u001b[38;5;241;43m=\u001b[39;49m\u001b[43merrors\u001b[49m\u001b[43m)\u001b[49m\n\u001b[1;32m   4831\u001b[0m     indexer \u001b[38;5;241m=\u001b[39m axis\u001b[38;5;241m.\u001b[39mget_indexer(new_axis)\n\u001b[1;32m   4833\u001b[0m \u001b[38;5;66;03m# Case for non-unique axis\u001b[39;00m\n\u001b[1;32m   4834\u001b[0m \u001b[38;5;28;01melse\u001b[39;00m:\n",
      "File \u001b[0;32m/opt/miniconda3/envs/data-analysis-env/lib/python3.9/site-packages/pandas/core/indexes/base.py:7070\u001b[0m, in \u001b[0;36mIndex.drop\u001b[0;34m(self, labels, errors)\u001b[0m\n\u001b[1;32m   7068\u001b[0m \u001b[38;5;28;01mif\u001b[39;00m mask\u001b[38;5;241m.\u001b[39many():\n\u001b[1;32m   7069\u001b[0m     \u001b[38;5;28;01mif\u001b[39;00m errors \u001b[38;5;241m!=\u001b[39m \u001b[38;5;124m\"\u001b[39m\u001b[38;5;124mignore\u001b[39m\u001b[38;5;124m\"\u001b[39m:\n\u001b[0;32m-> 7070\u001b[0m         \u001b[38;5;28;01mraise\u001b[39;00m \u001b[38;5;167;01mKeyError\u001b[39;00m(\u001b[38;5;124mf\u001b[39m\u001b[38;5;124m\"\u001b[39m\u001b[38;5;132;01m{\u001b[39;00mlabels[mask]\u001b[38;5;241m.\u001b[39mtolist()\u001b[38;5;132;01m}\u001b[39;00m\u001b[38;5;124m not found in axis\u001b[39m\u001b[38;5;124m\"\u001b[39m)\n\u001b[1;32m   7071\u001b[0m     indexer \u001b[38;5;241m=\u001b[39m indexer[\u001b[38;5;241m~\u001b[39mmask]\n\u001b[1;32m   7072\u001b[0m \u001b[38;5;28;01mreturn\u001b[39;00m \u001b[38;5;28mself\u001b[39m\u001b[38;5;241m.\u001b[39mdelete(indexer)\n",
      "\u001b[0;31mKeyError\u001b[0m: '[<bound method NDFrame.keys of                           index                          0\\n0                      address1  33 Boulevard Prince Henri\\n1                          city            Luxembourg City\\n2                           zip                       1724\\n3                       country                 Luxembourg\\n4                       website    https://www.spotify.com\\n..                          ...                        ...\\n163  earningsCallTimestampStart                 1753790400\\n164    earningsCallTimestampEnd                 1753790400\\n165      isEarningsDateEstimate                      False\\n166                 displayName         Spotify Technology\\n167            trailingPegRatio                     2.0365\\n\\n[168 rows x 2 columns]>] not found in axis'"
     ]
    }
   ],
   "source": [
    "# practice\n",
    "microsoft = yf.Ticker('SPOT')\n",
    "dict =  microsoft.info\n",
    "df = pd.DataFrame.from_dict(dict,orient='index')\n",
    "df = df.reset_index()\n",
    "# df.to_csv('/Users/Marcy_Student/Desktop/Passion-Projects/stock-project-extra-files/stock analysis to_csvs/SPOT-info.csv')\n",
    "\n",
    "df_drop = df.drop(df.keys)\n"
   ]
  },
  {
   "cell_type": "code",
   "execution_count": null,
   "id": "b00aadab",
   "metadata": {},
   "outputs": [
    {
     "name": "stderr",
     "output_type": "stream",
     "text": [
      "/var/folders/gs/yv3dj4zx2tgdd5tw701ypspm0000gp/T/ipykernel_54885/2765133094.py:4: RuntimeWarning: invalid value encountered in divide\n",
      "  xdc / df[-2] *100\n"
     ]
    },
    {
     "data": {
      "text/plain": [
       "array([ -0.22708617,   0.56260654,   0.57713881,   0.34931389,\n",
       "       -24.494267  ,          nan,          nan])"
      ]
     },
     "execution_count": 104,
     "metadata": {},
     "output_type": "execute_result"
    }
   ],
   "source": [
    "#dict to DF\n",
    "msft_hist = yf.Ticker('MSFT').history(period='2y')\n",
    "df = pd.DataFrame.from_dict(msft_hist, orient='index')"
   ]
  },
  {
   "cell_type": "code",
   "execution_count": null,
   "id": "21d5d3a3",
   "metadata": {},
   "outputs": [
    {
     "data": {
      "text/html": [
       "<div>\n",
       "<style scoped>\n",
       "    .dataframe tbody tr th:only-of-type {\n",
       "        vertical-align: middle;\n",
       "    }\n",
       "\n",
       "    .dataframe tbody tr th {\n",
       "        vertical-align: top;\n",
       "    }\n",
       "\n",
       "    .dataframe thead th {\n",
       "        text-align: right;\n",
       "    }\n",
       "</style>\n",
       "<table border=\"1\" class=\"dataframe\">\n",
       "  <thead>\n",
       "    <tr style=\"text-align: right;\">\n",
       "      <th></th>\n",
       "      <th>index</th>\n",
       "      <th>0</th>\n",
       "    </tr>\n",
       "  </thead>\n",
       "  <tbody>\n",
       "    <tr>\n",
       "      <th>0</th>\n",
       "      <td>address1</td>\n",
       "      <td>3150 South Delaware Street</td>\n",
       "    </tr>\n",
       "    <tr>\n",
       "      <th>1</th>\n",
       "      <td>city</td>\n",
       "      <td>San Mateo</td>\n",
       "    </tr>\n",
       "    <tr>\n",
       "      <th>2</th>\n",
       "      <td>state</td>\n",
       "      <td>CA</td>\n",
       "    </tr>\n",
       "    <tr>\n",
       "      <th>3</th>\n",
       "      <td>zip</td>\n",
       "      <td>94403</td>\n",
       "    </tr>\n",
       "    <tr>\n",
       "      <th>4</th>\n",
       "      <td>country</td>\n",
       "      <td>United States</td>\n",
       "    </tr>\n",
       "    <tr>\n",
       "      <th>...</th>\n",
       "      <td>...</td>\n",
       "      <td>...</td>\n",
       "    </tr>\n",
       "    <tr>\n",
       "      <th>163</th>\n",
       "      <td>longName</td>\n",
       "      <td>Roblox Corporation</td>\n",
       "    </tr>\n",
       "    <tr>\n",
       "      <th>164</th>\n",
       "      <td>regularMarketChangePercent</td>\n",
       "      <td>2.16591</td>\n",
       "    </tr>\n",
       "    <tr>\n",
       "      <th>165</th>\n",
       "      <td>regularMarketPrice</td>\n",
       "      <td>97.17</td>\n",
       "    </tr>\n",
       "    <tr>\n",
       "      <th>166</th>\n",
       "      <td>displayName</td>\n",
       "      <td>Roblox</td>\n",
       "    </tr>\n",
       "    <tr>\n",
       "      <th>167</th>\n",
       "      <td>trailingPegRatio</td>\n",
       "      <td>None</td>\n",
       "    </tr>\n",
       "  </tbody>\n",
       "</table>\n",
       "<p>168 rows × 2 columns</p>\n",
       "</div>"
      ],
      "text/plain": [
       "                          index                           0\n",
       "0                      address1  3150 South Delaware Street\n",
       "1                          city                   San Mateo\n",
       "2                         state                          CA\n",
       "3                           zip                       94403\n",
       "4                       country               United States\n",
       "..                          ...                         ...\n",
       "163                    longName          Roblox Corporation\n",
       "164  regularMarketChangePercent                     2.16591\n",
       "165          regularMarketPrice                       97.17\n",
       "166                 displayName                      Roblox\n",
       "167            trailingPegRatio                        None\n",
       "\n",
       "[168 rows x 2 columns]"
      ]
     },
     "execution_count": 12,
     "metadata": {},
     "output_type": "execute_result"
    }
   ],
   "source": [
    "# Ticker to Sector and Industry\n",
    "msft = yf.Ticker('RBLX')\n",
    "tech = yf.Sector(msft.info.get('sectorKey'))\n",
    "software = yf.Industry(msft.info.get('industryKey'))\n",
    "\n",
    "#print(tech)\n",
    "#print(software)\n",
    "tech_tick = tech.ticker\n",
    "\n",
    "df2 = msft.info\n",
    "df2 = pd.DataFrame.from_dict(df2, orient='index')\n",
    "df2 = df2.reset_index()\n",
    "df2\n",
    "#df2_trailingPE = df2.loc[df2['index'] == 'trailingPE', 0]\n",
    "#df2_trailingPE = df2_trailingPE.astype(float)\n",
    "#df2_trailingPE = df2_trailingPE.iloc[0]\n",
    "\n"
   ]
  },
  {
   "cell_type": "code",
   "execution_count": null,
   "id": "90b91f26",
   "metadata": {},
   "outputs": [],
   "source": [
    "#df2_trailingPE = df2['index'] == 'trailingPE'\n",
    "#df2_trailingPE = df2['index'].str.contains('trailingPE')\n",
    "#df2_trailingPE = df2[df2['index'] == 'trailingPE'].groupby('index', [0])"
   ]
  },
  {
   "cell_type": "code",
   "execution_count": 1,
   "id": "dfb04d9a",
   "metadata": {},
   "outputs": [
    {
     "ename": "NameError",
     "evalue": "name 'stock_for_analysis_choice' is not defined",
     "output_type": "error",
     "traceback": [
      "\u001b[0;31m---------------------------------------------------------------------------\u001b[0m",
      "\u001b[0;31mNameError\u001b[0m                                 Traceback (most recent call last)",
      "Cell \u001b[0;32mIn[1], line 1\u001b[0m\n\u001b[0;32m----> 1\u001b[0m \u001b[38;5;28mdict\u001b[39m \u001b[38;5;241m=\u001b[39m  \u001b[43mstock_for_analysis_choice\u001b[49m\u001b[38;5;241m.\u001b[39minfo\n\u001b[1;32m      2\u001b[0m stock_trailingPE \u001b[38;5;241m=\u001b[39m \u001b[38;5;28mdict\u001b[39m\u001b[38;5;241m.\u001b[39mget(\u001b[38;5;124m'\u001b[39m\u001b[38;5;124mtrailingPE\u001b[39m\u001b[38;5;124m'\u001b[39m)\n\u001b[1;32m      3\u001b[0m \u001b[38;5;28;01mif\u001b[39;00m stock_trailingPE \u001b[38;5;129;01mis\u001b[39;00m \u001b[38;5;28;01mNone\u001b[39;00m:\n",
      "\u001b[0;31mNameError\u001b[0m: name 'stock_for_analysis_choice' is not defined"
     ]
    }
   ],
   "source": [
    "dict =  stock_for_analysis_choice.info\n",
    "stock_trailingPE = dict.get('trailingPE')\n",
    "if stock_trailingPE is None:\n",
    "     stock_trailingPE = \"Not Available\""
   ]
  }
 ],
 "metadata": {
  "kernelspec": {
   "display_name": "data-analysis-env",
   "language": "python",
   "name": "python3"
  },
  "language_info": {
   "codemirror_mode": {
    "name": "ipython",
    "version": 3
   },
   "file_extension": ".py",
   "mimetype": "text/x-python",
   "name": "python",
   "nbconvert_exporter": "python",
   "pygments_lexer": "ipython3",
   "version": "3.9.22"
  }
 },
 "nbformat": 4,
 "nbformat_minor": 5
}
