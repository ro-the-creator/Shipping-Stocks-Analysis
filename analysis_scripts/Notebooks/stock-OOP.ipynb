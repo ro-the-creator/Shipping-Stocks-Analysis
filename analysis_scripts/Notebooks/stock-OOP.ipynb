{
 "cells": [
  {
   "cell_type": "code",
   "execution_count": 2,
   "id": "0007b807",
   "metadata": {},
   "outputs": [],
   "source": [
    "# Imports\n",
    "\n",
    "import yfinance as yf\n",
    "import pandas as pd\n",
    "import numpy as np\n",
    "import warnings\n",
    "warnings.simplefilter(action='ignore', category=FutureWarning)"
   ]
  },
  {
   "cell_type": "code",
   "execution_count": 46,
   "id": "a4712c12",
   "metadata": {},
   "outputs": [],
   "source": [
    "# Stock Analyzer class\n",
    "\n",
    "class StockAnalyzer:\n",
    "     def __init__(self):\n",
    "          ticker = input('Pick a Ticker (Do not include \"$\")')\n",
    "          self.ticker = ticker\n",
    "          self.yf = yf.Ticker(ticker)\n",
    "          self.data = None\n",
    "    \n",
    "     def fetch_data(self, period='1mo', interval='1d'):\n",
    "        stock = self.yf\n",
    "        self.data = stock.history(period=period, interval=interval)\n",
    "        if len(self.data) == 0:\n",
    "            print(\"Ticker invalid. Did you exclude the dollar sign?\")\n",
    "        else:\n",
    "            print(f\"Data for ${self.ticker.upper()} received. Contains {len(self.data)} rows.\")\n",
    "            print(f\"Company Name: {stock.info['shortName']}\")\n",
    "     \n",
    "     def percent_change(self, period='2d'):\n",
    "         stock = self.yf\n",
    "         stock_hist = stock.history(period=period)\n",
    "         df = pd.DataFrame(stock_hist)\n",
    "         perc_change = ((df['Close'][-1] - df['Close'][0]) / df['Close'][0]) * 100\n",
    "         print(f\"Percent Change over {str(period)}: {perc_change:.2f}%\")\n",
    "\n",
    "     def detect_flagpole(self, pole_window=5, flag_window=7, growth_threshold=0.05):\n",
    "         recent_window = self.data['Close'].iloc[-(pole_window + flag_window):-flag_window]\n",
    "         percent_change = ((recent_window.iloc[-1]-recent_window.iloc[0]) / recent_window.iloc[0]) * 100\n",
    "         print(f\"Flagpole change: {percent_change:.2f}% over {pole_window} days before flag splice.\")\n",
    "         return percent_change > growth_threshold\n",
    "\n",
    "     def detect_flag(self, flag_window=7, growth_threshold=0.01):\n",
    "         recent_window = self.data['Close'].iloc[-flag_window:]\n",
    "         percent_change = ((recent_window.iloc[-1] - recent_window.iloc[0]) / recent_window.iloc[0]) * 100\n",
    "         print(f\"Flag change: {percent_change:.2f}% over {flag_window} days after flagpole.\")\n",
    "         return percent_change < growth_threshold\n",
    "\n",
    "     def detect_flag_pattern(self, pole_window=5, flag_window=7):\n",
    "         if self.detect_flagpole and self.detect_flag is True:\n",
    "             print(\"Bull Flag Detected. Confirm with Volume.\")\n",
    "         elif self.detect_flagpole and self.detect_flag is not True:\n",
    "             print(\"Bull Flag not Detected.\")\n",
    "\n",
    "     def pe_ratio(self):\n",
    "         stock = self.yf\n",
    "         dict = stock.info\n",
    "         stock_trailingPE = dict.get('trailingPE')\n",
    "         try:\n",
    "            stock_trailingPE = float(stock_trailingPE)\n",
    "            print(f\"Trailing PE Ratio: {stock_trailingPE:.2f}\")\n",
    "         except (TypeError, ValueError):\n",
    "            print(f\"Trailing PE Ratio: Not Available\")\n",
    "\n",
    "\n"
   ]
  },
  {
   "cell_type": "markdown",
   "id": "e338e38d",
   "metadata": {},
   "source": [
    "# Stock Analysis:\n",
    "\n",
    "### Run the cell below and input your company ticker of choice for analysis!"
   ]
  },
  {
   "cell_type": "code",
   "execution_count": 51,
   "id": "50a1d53c",
   "metadata": {},
   "outputs": [
    {
     "name": "stdout",
     "output_type": "stream",
     "text": [
      "Data for $RBLX received. Contains 21 rows.\n",
      "Company Name: Roblox Corporation\n",
      "Percent Change over 2y: 148.30%\n",
      "Percent Change over 6mo: 67.27%\n",
      "Trailing PE Ratio: Not Available\n",
      "Flagpole change: 3.62% over 5 days before flag splice.\n",
      "Flag change: 0.73% over 7 days after flagpole.\n",
      "Bull Flag not Detected.\n",
      "WARNING: This is not financial advice. Conduct your own research before purchasing stocks.\n"
     ]
    }
   ],
   "source": [
    "stock = StockAnalyzer()\n",
    "stock.fetch_data()\n",
    "stock.percent_change(period='2y')\n",
    "stock.percent_change(period='6mo')\n",
    "stock.pe_ratio()\n",
    "stock.detect_flagpole(pole_window=5, flag_window=7)\n",
    "stock.detect_flag(flag_window=7)\n",
    "stock.detect_flag_pattern()\n",
    "print(\"WARNING: This is not financial advice. Conduct your own research before purchasing stocks.\")"
   ]
  },
  {
   "cell_type": "code",
   "execution_count": null,
   "id": "30de60c2",
   "metadata": {},
   "outputs": [],
   "source": []
  }
 ],
 "metadata": {
  "kernelspec": {
   "display_name": "data-analysis-env",
   "language": "python",
   "name": "python3"
  },
  "language_info": {
   "codemirror_mode": {
    "name": "ipython",
    "version": 3
   },
   "file_extension": ".py",
   "mimetype": "text/x-python",
   "name": "python",
   "nbconvert_exporter": "python",
   "pygments_lexer": "ipython3",
   "version": "3.9.22"
  }
 },
 "nbformat": 4,
 "nbformat_minor": 5
}
